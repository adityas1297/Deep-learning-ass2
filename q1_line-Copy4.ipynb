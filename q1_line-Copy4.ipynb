{
 "cells": [
  {
   "cell_type": "code",
   "execution_count": 2,
   "metadata": {},
   "outputs": [],
   "source": [
    "import tensorflow as tf"
   ]
  },
  {
   "cell_type": "code",
   "execution_count": 3,
   "metadata": {},
   "outputs": [],
   "source": [
    "import cv2\n",
    "import glob\n",
    "import numpy as np\n",
    "import os"
   ]
  },
  {
   "cell_type": "code",
   "execution_count": 4,
   "metadata": {},
   "outputs": [],
   "source": [
    "path = '/home/aditya/6thsem/deeplearning/ass1/images/'"
   ]
  },
  {
   "cell_type": "code",
   "execution_count": 5,
   "metadata": {},
   "outputs": [
    {
     "name": "stdout",
     "output_type": "stream",
     "text": [
      "/home/aditya/6thsem/deeplearning/ass1/images/\n"
     ]
    }
   ],
   "source": [
    "print(path)"
   ]
  },
  {
   "cell_type": "code",
   "execution_count": 6,
   "metadata": {},
   "outputs": [],
   "source": [
    "class_number =-1\n",
    "x_train =[]\n",
    "y_train = []\n",
    "x_test = []\n",
    "y_test = []\n",
    "for i in [0,1]: # length\n",
    "    for t in [0,1]: #Thickness\n",
    "        for k in range(0,12): #angle\n",
    "            for o in [0,1]:\n",
    "                rel_path = str(i)+'_'+str(t)+'_'+str(k)+'_'+str(o)\n",
    "                count = 0\n",
    "                class_number=class_number+1\n",
    "               \n",
    "                for f in glob.glob(path+rel_path+'/*.jpg'):\n",
    "                    if count>=600 and count<1000:\n",
    "                        count = count +1\n",
    "                        x_test.append(cv2.imread(f))\n",
    "                        y_test.append(class_number)\n",
    "                    elif count<600 :\n",
    "                        count= count+1\n",
    "                        x_train.append(cv2.imread(f))\n",
    "                        y_train.append(class_number)\n",
    "#                         break\n",
    "                    else:\n",
    "                        break"
   ]
  },
  {
   "cell_type": "code",
   "execution_count": 8,
   "metadata": {},
   "outputs": [],
   "source": [
    "from random import shuffle\n",
    "\n",
    "rand_num = [i for i in range(len(x_train))]\n",
    "# for i in range(0,10):\n",
    "#     print(rand_num[i])\n",
    "\n",
    "shuffle(rand_num)\n",
    "\n",
    "# print(rand_num[len(rand_num)-1])\n",
    "# for i in range(0,10):\n",
    "#     print(rand_num[i])\n",
    "\n",
    "x_train1 = []\n",
    "y_train1 = []\n",
    "for i in range(len(x_train)):\n",
    "    x_train1.append(x_train[rand_num[i]])\n",
    "    y_train1.append(y_train[rand_num[i]])\n",
    "\n",
    "    \n",
    "    \n",
    "# x_train1 = np.asarray(x_train1)\n",
    "# y_train1 = np.asarray(y_train1)\n",
    "\n",
    "# print(len(x_train1))\n",
    "# print(len(x_train[0]))\n",
    "# print(len(y_train[0]))\n",
    "# print(type(x_train1))\n",
    "# print(type(y_train1))\n",
    "\n",
    "# print(y_train[0])\n",
    "#\n",
    "\n",
    "x_train =  x_train1\n",
    "y_train = y_train1"
   ]
  },
  {
   "cell_type": "code",
   "execution_count": 9,
   "metadata": {},
   "outputs": [
    {
     "name": "stdout",
     "output_type": "stream",
     "text": [
      "28\n",
      "96\n",
      "<class 'numpy.ndarray'>\n"
     ]
    }
   ],
   "source": [
    "\n",
    "x_test = np.asarray(x_test)\n",
    "x_train = np.asarray(x_train)\n",
    "y_train = np.asarray(y_train)\n",
    "y_test = np.asarray(y_test)\n",
    "\n",
    "y_train = tf.keras.utils.to_categorical(y_train,96)\n",
    "y_test = tf.keras.utils.to_categorical(y_test,96)\n",
    "#(x_train, y_train),(x_test, y_test) = mnist.load_data()\n",
    "#x_train, x_test = x_train / 255.0, x_test / 255.0\n",
    "print(len(x_train[0]))\n",
    "print(len(y_train[0]))\n",
    "print(type(x_train))"
   ]
  },
  {
   "cell_type": "code",
   "execution_count": 10,
   "metadata": {},
   "outputs": [],
   "source": [
    "# import matplotlib.pyplot as plt\n",
    "# fig = plt.figure()\n",
    "# for i in range(9):\n",
    "#   plt.subplot(3,3,i+1)\n",
    "#   plt.tight_layout()\n",
    "#   plt.imshow(x_train[i], cmap='gray', interpolation='none')\n",
    "#   plt.title(\"Digit: {}\".format(y_train[i]))\n",
    "#   plt.xticks([])\n",
    "#   plt.yticks([])\n",
    "# fig"
   ]
  },
  {
   "cell_type": "code",
   "execution_count": 11,
   "metadata": {},
   "outputs": [],
   "source": [
    "# print(len(x_train))"
   ]
  },
  {
   "cell_type": "code",
   "execution_count": 12,
   "metadata": {},
   "outputs": [],
   "source": [
    "x_train = x_train.reshape(x_train.shape[0], 28, 28, 3)\n",
    "x_test = x_test.reshape(x_test.shape[0], 28, 28, 3)\n",
    "\n",
    "x_train = x_train.astype('float32')\n",
    "x_test = x_test.astype('float32')\n",
    "\n",
    "x_train/=255\n",
    "x_test/=255\n"
   ]
  },
  {
   "cell_type": "code",
   "execution_count": 17,
   "metadata": {},
   "outputs": [],
   "source": [
    "# model = tf.keras.models.Sequential([\n",
    "#   tf.keras.layers.Flatten(input_shape=(28, 28)),\n",
    "#   tf.keras.layers.Dense(512, activation=tf.nn.relu),\n",
    "#   tf.keras.layers.Dropout(0.2),\n",
    "#   tf.keras.layers.Dense(10, activation=tf.nn.softmax)\n",
    "# ])\n",
    "\n",
    "model = tf.keras.Sequential()\n",
    "# model.add(tf.keras.layers.Flatten(input_shape=(28,28)))\n",
    "model.add(tf.keras.layers.Conv2D(filters=6,kernel_size=(6,6),padding='same', activation ='relu',input_shape = (28,28,3)))\n",
    "model.add(tf.keras.layers.Conv2D(filters=12,kernel_size=(5,5),strides=(2, 2),padding='same', activation ='relu'))\n",
    "model.add(tf.keras.layers.Conv2D(filters=24,kernel_size=(4,4),strides=(2, 2),padding='same', activation ='relu'))\n",
    "\n",
    "# model.add(tf.keras.layers.BatchNormalization(axis=-1, momentum=0.99, epsilon=0.001, center=True, scale=True, beta_initializer='zeros', gamma_initializer='ones', moving_mean_initializer='zeros', moving_variance_initializer='ones', beta_regularizer=None, gamma_regularizer=None, beta_constraint=None, gamma_constraint=None))\n",
    "# model.add(tf.keras.layers.MaxPooling2D(pool_size=(2,2),strides=2))\n",
    "model.add(tf.keras.layers.Flatten())\n",
    "model.add(tf.keras.layers.Dense(200,activation ='relu'))\n",
    "# model.add(tf.keras.layers.Dropout(0.25))\n",
    "model.add(tf.keras.layers.Dense(96, activation =\"softmax\"))"
   ]
  },
  {
   "cell_type": "code",
   "execution_count": 18,
   "metadata": {},
   "outputs": [],
   "source": [
    "model.compile(optimizer='adam',\n",
    "              loss='categorical_crossentropy',\n",
    "              metrics=['accuracy'])\n"
   ]
  },
  {
   "cell_type": "code",
   "execution_count": 1,
   "metadata": {},
   "outputs": [
    {
     "ename": "NameError",
     "evalue": "name 'model' is not defined",
     "output_type": "error",
     "traceback": [
      "\u001b[0;31m---------------------------------------------------------------------------\u001b[0m",
      "\u001b[0;31mNameError\u001b[0m                                 Traceback (most recent call last)",
      "\u001b[0;32m<ipython-input-1-5f15418b3570>\u001b[0m in \u001b[0;36m<module>\u001b[0;34m\u001b[0m\n\u001b[0;32m----> 1\u001b[0;31m \u001b[0mmodel\u001b[0m\u001b[0;34m.\u001b[0m\u001b[0msummary\u001b[0m\u001b[0;34m(\u001b[0m\u001b[0;34m)\u001b[0m\u001b[0;34m\u001b[0m\u001b[0;34m\u001b[0m\u001b[0m\n\u001b[0m",
      "\u001b[0;31mNameError\u001b[0m: name 'model' is not defined"
     ]
    }
   ],
   "source": [
    "model.summary()"
   ]
  },
  {
   "cell_type": "code",
   "execution_count": 20,
   "metadata": {
    "scrolled": true
   },
   "outputs": [
    {
     "name": "stdout",
     "output_type": "stream",
     "text": [
      "Train on 54720 samples, validate on 2880 samples\n",
      "Epoch 1/5\n",
      "54720/54720 [==============================] - 92s 2ms/step - loss: 1.3403 - acc: 0.5825 - val_loss: 0.4073 - val_acc: 0.8417\n",
      "Epoch 2/5\n",
      "54720/54720 [==============================] - 88s 2ms/step - loss: 0.2631 - acc: 0.8997 - val_loss: 0.1721 - val_acc: 0.9271\n",
      "Epoch 3/5\n",
      "54720/54720 [==============================] - 86s 2ms/step - loss: 0.1521 - acc: 0.9433 - val_loss: 0.1910 - val_acc: 0.9302\n",
      "Epoch 4/5\n",
      "54720/54720 [==============================] - 61s 1ms/step - loss: 0.1095 - acc: 0.9599 - val_loss: 0.0872 - val_acc: 0.9677\n",
      "Epoch 5/5\n",
      "54720/54720 [==============================] - 38s 698us/step - loss: 0.0833 - acc: 0.9710 - val_loss: 0.0434 - val_acc: 0.9823\n",
      "38400/38400 [==============================] - 8s 208us/step\n"
     ]
    },
    {
     "data": {
      "text/plain": [
       "[0.04020467574582849, 0.9848697916666667]"
      ]
     },
     "execution_count": 20,
     "metadata": {},
     "output_type": "execute_result"
    }
   ],
   "source": [
    "history = model.fit(x_train, y_train,validation_split=0.05 ,epochs=5)\n",
    "model.evaluate(x_test, y_test)\n"
   ]
  },
  {
   "cell_type": "code",
   "execution_count": 25,
   "metadata": {},
   "outputs": [],
   "source": [
    "y_pred = model.predict(x_test)"
   ]
  },
  {
   "cell_type": "code",
   "execution_count": 26,
   "metadata": {},
   "outputs": [
    {
     "name": "stdout",
     "output_type": "stream",
     "text": [
      "[ 0  0  0 ... 95 95 95]\n",
      "[ 0  0  0 ... 95 95 95]\n"
     ]
    }
   ],
   "source": [
    "y_pred1 = []\n",
    "  \n",
    "y_pred1 =np.argmax(y_pred,axis=1) \n",
    "print(y_pred1)\n",
    "# for i in y_pred1:\n",
    "#     print(i)   \n",
    "    \n",
    "y_test = np.argmax(y_test,axis =1)\n",
    "print(y_pred1)"
   ]
  },
  {
   "cell_type": "code",
   "execution_count": 27,
   "metadata": {},
   "outputs": [
    {
     "name": "stdout",
     "output_type": "stream",
     "text": [
      "<class 'numpy.ndarray'>\n"
     ]
    }
   ],
   "source": [
    "from sklearn.metrics import confusion_matrix\n",
    "cf = confusion_matrix(y_test, y_pred1)\n",
    "print(type(cf))\n"
   ]
  },
  {
   "cell_type": "code",
   "execution_count": 28,
   "metadata": {},
   "outputs": [
    {
     "name": "stdout",
     "output_type": "stream",
     "text": [
      "[0.9913259  0.88208617 0.99009901 0.78145695 0.98989899 0.75223881\n",
      " 1.         1.         1.         0.99625468 1.         0.9706258\n",
      " 1.         0.94160584 1.         0.94409938 1.         0.96410256\n",
      " 0.99749373 1.         1.         0.91428571 0.99117276 0.79881657\n",
      " 1.         0.96551724 0.99750623 0.96645963 0.99749373 0.97055058\n",
      " 0.99875156 0.98503741 0.99874844 0.98873592 0.988622   0.96930946\n",
      " 0.98511166 0.95798319 0.9937578  0.97193878 0.99750623 0.98881988\n",
      " 0.995      0.96954933 0.99750623 0.96410256 1.         0.97236181\n",
      " 1.         1.         1.         1.         1.         1.\n",
      " 1.         1.         1.         1.         1.         1.\n",
      " 1.         1.         1.         1.         1.         1.\n",
      " 1.         1.         1.         1.         1.         1.\n",
      " 1.         1.         1.         1.         1.         1.\n",
      " 1.         1.         1.         1.         1.         1.\n",
      " 1.         1.         1.         1.         1.         1.\n",
      " 1.         1.         1.         1.         1.         1.        ]\n"
     ]
    }
   ],
   "source": [
    "import sys\n",
    "from sklearn.metrics import f1_score\n",
    "fscore = f1_score(y_test,y_pred1,average=None)\n",
    "print(fscore)\n",
    "np.set_printoptions(threshold=sys.maxsize)\n",
    "# print(cf)\n",
    "np.savetxt(\"line_cf2.csv\", cf, delimiter=\",\")\n",
    "np.savetxt(\"line_fscore2.csv\", fscore, delimiter=\",\")"
   ]
  },
  {
   "cell_type": "code",
   "execution_count": 24,
   "metadata": {},
   "outputs": [
    {
     "name": "stdout",
     "output_type": "stream",
     "text": [
      "\n",
      "\n",
      "dict_keys(['val_loss', 'val_acc', 'loss', 'acc'])\n"
     ]
    },
    {
     "data": {
      "image/png": "[encoded data removed]",
      "text/plain": [
       "<Figure size 432x288 with 1 Axes>"
      ]
     },
     "metadata": {
      "needs_background": "light"
     },
     "output_type": "display_data"
    },
    {
     "data": {
      "image/png": "[encoded data removed]",
      "text/plain": [
       "<Figure size 432x288 with 1 Axes>"
      ]
     },
     "metadata": {
      "needs_background": "light"
     },
     "output_type": "display_data"
    }
   ],
   "source": [
    "# history = model.fit(x=x_train,y=y_train, epochs=20, validation_split=0.33)\n",
    "import matplotlib.pyplot as plt\n",
    "\n",
    "# plot learning curves\n",
    "\n",
    "print(\"\\n\")\n",
    "print(history.history.keys())\n",
    "\n",
    "# summarize history for accuracy\n",
    "plt.plot(history.history['acc'])\n",
    "plt.plot(history.history['val_acc'])\n",
    "plt.title('model accuracy')\n",
    "plt.ylabel('accuracy')\n",
    "plt.xlabel('epoch')\n",
    "plt.legend(['train', 'test'], loc='upper left')\n",
    "plt.show()\n",
    "\n",
    "# summarize history for loss\n",
    "plt.plot(history.history['loss'])\n",
    "plt.plot(history.history['val_loss'])\n",
    "plt.title('model loss')\n",
    "plt.ylabel('loss')\n",
    "plt.xlabel('epoch')\n",
    "plt.legend(['train', 'test'], loc='upper left')\n",
    "plt.show()"
   ]
  },
  {
   "cell_type": "code",
   "execution_count": null,
   "metadata": {},
   "outputs": [],
   "source": []
  },
  {
   "cell_type": "code",
   "execution_count": null,
   "metadata": {},
   "outputs": [],
   "source": []
  }
 ],
 "metadata": {
  "kernelspec": {
   "display_name": "Python (dlenv)",
   "language": "python",
   "name": "dlenv"
  },
  "language_info": {
   "codemirror_mode": {
    "name": "ipython",
    "version": 3
   },
   "file_extension": ".py",
   "mimetype": "text/x-python",
   "name": "python",
   "nbconvert_exporter": "python",
   "pygments_lexer": "ipython3",
   "version": "3.6.8"
  }
 },
 "nbformat": 4,
 "nbformat_minor": 2
}
