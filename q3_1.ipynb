{
 "cells": [
  {
   "cell_type": "code",
   "execution_count": 2,
   "metadata": {},
   "outputs": [],
   "source": [
    "import tensorflow as tf"
   ]
  },
  {
   "cell_type": "code",
   "execution_count": 3,
   "metadata": {},
   "outputs": [],
   "source": [
    "mnist = tf.keras.datasets.mnist\n"
   ]
  },
  {
   "cell_type": "code",
   "execution_count": 4,
   "metadata": {},
   "outputs": [
    {
     "name": "stdout",
     "output_type": "stream",
     "text": [
      "<module 'tensorflow._api.v1.keras.datasets.mnist' from '/home/aditya/anaconda3/envs/dlenv/lib/python3.6/site-packages/tensorflow/_api/v1/keras/datasets/mnist/__init__.py'>\n"
     ]
    }
   ],
   "source": [
    "print(mnist)"
   ]
  },
  {
   "cell_type": "code",
   "execution_count": 5,
   "metadata": {},
   "outputs": [],
   "source": [
    "(x_train, y_train),(x_test, y_test) = mnist.load_data()\n",
    "x_train, x_test = x_train / 255.0, x_test / 255.0\n",
    "\n",
    "\n",
    "y_train = tf.keras.utils.to_categorical(y_train,10)\n",
    "y_test = tf.keras.utils.to_categorical(y_test,10)\n"
   ]
  },
  {
   "cell_type": "code",
   "execution_count": 6,
   "metadata": {},
   "outputs": [
    {
     "data": {
      "text/plain": [
       "<Figure size 640x480 with 3 Axes>"
      ]
     },
     "execution_count": 6,
     "metadata": {},
     "output_type": "execute_result"
    }
   ],
   "source": [
    "import matplotlib.pyplot as plt\n",
    "fig = plt.figure()\n",
    "for i in range(3):\n",
    "  plt.subplot(3,3,i+1)\n",
    "  plt.tight_layout()\n",
    "  plt.imshow(x_train[i], cmap='gray', interpolation='none')\n",
    "  plt.title(\"Digit: {}\".format(y_train[i]))\n",
    "  plt.xticks([])\n",
    "  plt.yticks([])\n",
    "fig"
   ]
  },
  {
   "cell_type": "code",
   "execution_count": 7,
   "metadata": {},
   "outputs": [
    {
     "name": "stdout",
     "output_type": "stream",
     "text": [
      "60000\n",
      "60000\n"
     ]
    }
   ],
   "source": [
    "print(len(x_train))\n",
    "print(len(y_train))"
   ]
  },
  {
   "cell_type": "code",
   "execution_count": 8,
   "metadata": {},
   "outputs": [],
   "source": [
    "x_train = x_train.reshape(x_train.shape[0], 28, 28, 1)\n",
    "x_test = x_test.reshape(x_test.shape[0], 28, 28, 1)\n",
    "\n",
    "x_train = x_train.astype('float32')\n",
    "x_test = x_test.astype('float32')\n",
    "\n",
    "x_train/=255\n",
    "x_test/=255\n"
   ]
  },
  {
   "cell_type": "code",
   "execution_count": 9,
   "metadata": {},
   "outputs": [],
   "source": [
    "# model = tf.keras.models.Sequential([\n",
    "#   tf.keras.layers.Flatten(input_shape=(28, 28)),\n",
    "#   tf.keras.layers.Dense(512, activation=tf.nn.relu),\n",
    "#   tf.keras.layers.Dropout(0.2),\n",
    "#   tf.keras.layers.Dense(10, activation=tf.nn.softmax)\n",
    "# ])\n",
    "\n",
    "model = tf.keras.Sequential()\n",
    "# model.add(tf.keras.layers.Flatten(input_shape=(28,28)))\n",
    "model.add(tf.keras.layers.Conv2D(filters=6,kernel_size=(6,6),padding='same', activation ='relu',input_shape = (28,28,1)))\n",
    "model.add(tf.keras.layers.Conv2D(filters=12,kernel_size=(5,5),strides=(2, 2),padding='same', activation ='relu'))\n",
    "model.add(tf.keras.layers.Conv2D(filters=24,kernel_size=(4,4),strides=(2, 2),padding='same', activation ='relu'))\n",
    "\n",
    "# model.add(tf.keras.layers.BatchNormalization(axis=-1, momentum=0.99, epsilon=0.001, center=True, scale=True, beta_initializer='zeros', gamma_initializer='ones', moving_mean_initializer='zeros', moving_variance_initializer='ones', beta_regularizer=None, gamma_regularizer=None, beta_constraint=None, gamma_constraint=None))\n",
    "# model.add(tf.keras.layers.MaxPooling2D(pool_size=(2,2),strides=2))\n",
    "model.add(tf.keras.layers.Flatten())\n",
    "model.add(tf.keras.layers.Dense(100,activation ='relu'))\n",
    "# model.add(tf.keras.layers.Dropout(0.25))\n",
    "model.add(tf.keras.layers.Dense(10, activation =\"softmax\"))"
   ]
  },
  {
   "cell_type": "code",
   "execution_count": 10,
   "metadata": {},
   "outputs": [],
   "source": [
    "model.compile(optimizer='adam',\n",
    "              loss='categorical_crossentropy',\n",
    "              metrics=['accuracy'])\n"
   ]
  },
  {
   "cell_type": "code",
   "execution_count": 11,
   "metadata": {},
   "outputs": [
    {
     "name": "stdout",
     "output_type": "stream",
     "text": [
      "_________________________________________________________________\n",
      "Layer (type)                 Output Shape              Param #   \n",
      "=================================================================\n",
      "conv2d (Conv2D)              (None, 28, 28, 6)         222       \n",
      "_________________________________________________________________\n",
      "conv2d_1 (Conv2D)            (None, 14, 14, 12)        1812      \n",
      "_________________________________________________________________\n",
      "conv2d_2 (Conv2D)            (None, 7, 7, 24)          4632      \n",
      "_________________________________________________________________\n",
      "flatten (Flatten)            (None, 1176)              0         \n",
      "_________________________________________________________________\n",
      "dense (Dense)                (None, 100)               117700    \n",
      "_________________________________________________________________\n",
      "dense_1 (Dense)              (None, 10)                1010      \n",
      "=================================================================\n",
      "Total params: 125,376\n",
      "Trainable params: 125,376\n",
      "Non-trainable params: 0\n",
      "_________________________________________________________________\n"
     ]
    }
   ],
   "source": [
    "model.summary()"
   ]
  },
  {
   "cell_type": "code",
   "execution_count": 12,
   "metadata": {
    "scrolled": true
   },
   "outputs": [
    {
     "name": "stdout",
     "output_type": "stream",
     "text": [
      "Train on 57000 samples, validate on 3000 samples\n",
      "Epoch 1/5\n",
      "57000/57000 [==============================] - 24s 422us/step - loss: 0.4910 - acc: 0.8381 - val_loss: 0.1241 - val_acc: 0.9667\n",
      "Epoch 2/5\n",
      "57000/57000 [==============================] - 29s 506us/step - loss: 0.1486 - acc: 0.9544 - val_loss: 0.0922 - val_acc: 0.9727\n",
      "Epoch 3/5\n",
      "57000/57000 [==============================] - 28s 489us/step - loss: 0.1019 - acc: 0.9689 - val_loss: 0.0769 - val_acc: 0.9807\n",
      "Epoch 4/5\n",
      "57000/57000 [==============================] - 28s 494us/step - loss: 0.0793 - acc: 0.9754 - val_loss: 0.0634 - val_acc: 0.9833\n",
      "Epoch 5/5\n",
      "57000/57000 [==============================] - 27s 477us/step - loss: 0.0657 - acc: 0.9800 - val_loss: 0.0791 - val_acc: 0.9770\n",
      "10000/10000 [==============================] - 1s 115us/step\n"
     ]
    },
    {
     "data": {
      "text/plain": [
       "[0.0794615312570706, 0.9748]"
      ]
     },
     "execution_count": 12,
     "metadata": {},
     "output_type": "execute_result"
    }
   ],
   "source": [
    "history = model.fit(x_train, y_train,validation_split=0.05, epochs=5)\n",
    "model.evaluate(x_test, y_test)\n"
   ]
  },
  {
   "cell_type": "code",
   "execution_count": 13,
   "metadata": {},
   "outputs": [
    {
     "name": "stdout",
     "output_type": "stream",
     "text": [
      "\n",
      "\n",
      "dict_keys(['val_loss', 'val_acc', 'loss', 'acc'])\n"
     ]
    },
    {
     "data": {
      "image/png": "[encoded data removed]",
      "text/plain": [
       "<Figure size 432x288 with 1 Axes>"
      ]
     },
     "metadata": {
      "needs_background": "light"
     },
     "output_type": "display_data"
    },
    {
     "data": {
      "image/png": "[encoded data removed]",
      "text/plain": [
       "<Figure size 432x288 with 1 Axes>"
      ]
     },
     "metadata": {
      "needs_background": "light"
     },
     "output_type": "display_data"
    }
   ],
   "source": [
    "\n",
    "\n",
    "# plot learning curves\n",
    "\n",
    "print(\"\\n\")\n",
    "print(history.history.keys())\n",
    "\n",
    "# summarize history for accuracy\n",
    "plt.plot(history.history['acc'])\n",
    "# plt.plot(history.history['val_acc'])\n",
    "plt.title('model accuracy')\n",
    "plt.ylabel('accuracy')\n",
    "plt.xlabel('epoch')\n",
    "plt.legend(['train', 'test'], loc='upper left')\n",
    "plt.show()\n",
    "\n",
    "# summarize history for loss\n",
    "plt.plot(history.history['loss'])\n",
    "# plt.plot(history.history['val_loss'])\n",
    "plt.title('model loss')\n",
    "plt.ylabel('loss')\n",
    "plt.xlabel('epoch')\n",
    "plt.legend(['train', 'test'], loc='upper left')\n",
    "plt.show()"
   ]
  },
  {
   "cell_type": "code",
   "execution_count": 17,
   "metadata": {},
   "outputs": [
    {
     "name": "stdout",
     "output_type": "stream",
     "text": [
      "1\n"
     ]
    },
    {
     "name": "stderr",
     "output_type": "stream",
     "text": [
      "/home/aditya/anaconda3/envs/dlenv/lib/python3.6/site-packages/ipykernel_launcher.py:46: RuntimeWarning: invalid value encountered in true_divide\n"
     ]
    },
    {
     "data": {
      "image/png": "[encoded data removed]",
      "text/plain": [
       "<Figure size 216x144 with 1 Axes>"
      ]
     },
     "metadata": {
      "needs_background": "light"
     },
     "output_type": "display_data"
    },
    {
     "data": {
      "image/png": "[encoded data removed]",
      "text/plain": [
       "<Figure size 216x288 with 1 Axes>"
      ]
     },
     "metadata": {
      "needs_background": "light"
     },
     "output_type": "display_data"
    },
    {
     "data": {
      "image/png": "[encoded data removed]",
      "text/plain": [
       "<Figure size 216x576 with 1 Axes>"
      ]
     },
     "metadata": {
      "needs_background": "light"
     },
     "output_type": "display_data"
    }
   ],
   "source": [
    "########Getting outputs for intermediate convolution layers by running prediction on test image ##########\n",
    "import numpy as np\n",
    "# print(model.layers)\n",
    "# layer_outputs = [layer.output for layer in model.layers]\n",
    "# print(layer_outputs)\n",
    "\n",
    "import matplotlib.pyplot as plt\n",
    "from tensorflow.keras.preprocessing import image\n",
    "layer_outputs = [layer.output for layer in model.layers]\n",
    "# print(layer_outputs)\n",
    "# print(x_test[2])\n",
    "# image_path  = '/home/aditya/6thsem/deeplearning/ass1/images/0_1_7_1/0_1_7_1_34.jpg'\n",
    "# image_name = '0_1_7_1_34'\n",
    "# import PIL\n",
    "# import PIL.Image\n",
    "\n",
    "# test_image = x_test[2]\n",
    "\n",
    "# img = image.load_img(image_path, target_size=(28,28))\n",
    "# img_tensor = Image.img_to_array(img)\n",
    "# img_tensor = np.expand_dims(img_tensor, axis=0)\n",
    "# img_tensor /= 255.\n",
    "# img = cv2.imread(image_path)\n",
    "# print(img.shape)\n",
    "\n",
    "img = x_test[0]\n",
    "\n",
    "activation_model = tf.keras.models.Model(inputs=model.input, outputs=layer_outputs)\n",
    "activations = activation_model.predict(img.reshape(1, 28, 28, 1))\n",
    "print(len(activations[5]))\n",
    "layer_names = ['conv2d', 'conv2d_1', 'conv2d_2']\n",
    "activ_list = [activations[0], activations[1], activations[2]]\n",
    "\n",
    "images_per_row = 3\n",
    "\n",
    "for layer_name, layer_activation in zip(layer_names, activ_list):\n",
    "    n_features = layer_activation.shape[-1]\n",
    "    size = layer_activation.shape[1]\n",
    "    n_cols = n_features // images_per_row\n",
    "    display_grid = np.zeros((size * n_cols, images_per_row * size))\n",
    "    \n",
    "    for col in range(n_cols):\n",
    "        for row in range(images_per_row):\n",
    "            channel_image = layer_activation[0, :, :, col * images_per_row + row]\n",
    "            channel_image -= channel_image.mean()\n",
    "            channel_image /= channel_image.std()\n",
    "            channel_image *= 64\n",
    "            channel_image += 128\n",
    "            channel_image = np.clip(channel_image, 0, 255).astype('uint8')\n",
    "            display_grid[col * size : (col + 1) * size, row * size : (row + 1) * size] = channel_image\n",
    "\n",
    "    scale = 1. / size\n",
    "    plt.figure(figsize=(scale * display_grid.shape[1], scale * display_grid.shape[0]))\n",
    "    plt.title(layer_name)\n",
    "    plt.grid(False)\n",
    "    plt.imshow(display_grid, aspect='auto', cmap='plasma')\n",
    "    plt.savefig(\"viz_mnist/\"+\"test[0]\"+' - '+layer_name+\"_grid.png\", bbox_inches='tight',pad_inches=0.1,edgecolor='r')"
   ]
  },
  {
   "cell_type": "code",
   "execution_count": 28,
   "metadata": {},
   "outputs": [
    {
     "name": "stdout",
     "output_type": "stream",
     "text": [
      "Using matplotlib backend: Qt5Agg\n",
      "Tensor(\"strided_slice_22:0\", shape=(28, 28, 6), dtype=float32)\n",
      "layer name  conv2d\n"
     ]
    }
   ],
   "source": [
    "def deprocess_image(x):\n",
    "    \n",
    "    x -= x.mean()\n",
    "    x /= (x.std() + 1e-5)\n",
    "    x *= 0.1\n",
    "    x += 0.5\n",
    "    x = np.clip(x, 0, 1)\n",
    "    x *= 255\n",
    "    x = np.clip(x, 0, 255).astype('uint8')\n",
    "    return x\n",
    "\n",
    "#---------------------------------------------------------------------------------------------------\n",
    "#Utility function for generating patterns for given layer starting from empty input image and then \n",
    "#applying Stochastic Gradient Ascent for maximizing the response of particular filter in given layer\n",
    "#---------------------------------------------------------------------------------------------------\n",
    "# import keras.backend as K\n",
    "%matplotlib\n",
    "def generate_pattern(layer_name, filter_index, size=28):\n",
    "    \n",
    "    layer_output = model.get_layer(layer_name).output\n",
    "    loss = tf.keras.backend.mean(layer_output[:, :, :, filter_index])\n",
    "    grads = tf.keras.backend.gradients(loss, model.input)[0]\n",
    "    grads /= (tf.keras.backend.sqrt(tf.keras.backend.mean(tf.keras.backend.square(grads))) + 1e-5)\n",
    "    iterate = tf.keras.backend.function([model.input], [loss, grads])\n",
    "    input_img_data = np.random.random((1, size, size, 1)) * 20 + 128.\n",
    "#     + 128.\n",
    "    step = 1.\n",
    "    for i in range(80):\n",
    "        loss_value, grads_value = iterate([input_img_data])\n",
    "        input_img_data += grads_value * step\n",
    "        \n",
    "    img = input_img_data[0]\n",
    "    return deprocess_image(img)\n",
    "\n",
    "layer_name = 'conv2d'\n",
    "\n",
    "layer_output = model.get_layer(layer_name).output\n",
    "print(layer_output[0])\n",
    "print(\"layer name \", layer_name)\n",
    "# print(layer_output[:, :, :, 0])\n",
    "# cv2.imshow('',generate_pattern(layer_name, 0,28))\n",
    "\n",
    "\n",
    "# fig=plt.figure(figsize=(6, 1))\n",
    "\n",
    "# for i in range(0,6):\n",
    "#     img = generate_pattern(layer_name, i,28)\n",
    "# #     fig.add_subplot(i/3, i%3, i)\n",
    "#     plt.imshow(img)\n",
    "# plt.show()\n",
    "\n",
    "\n",
    "\n",
    "# print(generate_pattern(layer_name, 0,28).shape)\n",
    "# img1 = generate_pattern(layer_name, 1,28)\n",
    "# img0 =generate_pattern(layer_name, 0,28)\n",
    "# print(len(img0),len(img1))\n",
    "# # imgplot = plt.imshow(img1)\n",
    "# # imgplot1 = plt.imshow(img0)\n",
    "# # plt.show()\n",
    "# fig=plt.figure(figsize=(8, 8))\n",
    "# columns = 4\n",
    "# rows = 6\n",
    "# for i in range(0, columns*rows +1):\n",
    "#     img = generate_pattern(layer_name, i,7)\n",
    "#     fig.add_subplot(rows, columns, i+1)\n",
    "#     plt.imshow(img)\n",
    "# plt.show()\n",
    "# plt.savefig(\"results.png\")\n",
    "\n",
    "def gen_conv_op(conv_layer_name,rows,columns,kernel_size):\n",
    "    fig=plt.figure(figsize=(20,20))\n",
    "#     columns = 4\n",
    "#     rows = 6\n",
    "    for i in range(0, columns*rows):\n",
    "        img = generate_pattern(conv_layer_name, i,kernel_size)\n",
    "        fig.add_subplot(rows, columns, i+1)\n",
    "        plt.imshow(np.squeeze(img))  # to make diminsion 28*28\n",
    "    plt.show()\n",
    "    \n",
    "    \n",
    "# gen_conv_op('conv2d',2,3,28)\n",
    "gen_conv_op('conv2d',2,3,28)\n",
    "\n",
    "#------------------------------------------------------------------------------------------\n",
    "#Generating convolution layer filters for intermediate layers using above utility functions\n",
    "#------------------------------------------------------------------------------------------\n",
    "\n",
    "\n"
   ]
  },
  {
   "cell_type": "code",
   "execution_count": 33,
   "metadata": {},
   "outputs": [],
   "source": [
    "import cv2\n",
    "\n",
    "\n",
    "def heatmap(pos):\n",
    "    # image_path  = '/home/aditya/6thsem/deeplearning/ass1/images/0_1_7_1/0_1_7_1_34.jpg'\n",
    "    # image_name = '0_1_7_1_34'\n",
    "\n",
    "    img = x_test[pos]\n",
    "    # print(img.shape)\n",
    "\n",
    "    img = img.reshape(1, 28, 28, 1)\n",
    "\n",
    "    # activation_model = tf.keras.models.Model(inputs=model.input, outputs=layer_outputs)\n",
    "    # activations = activation_model.predict(img.reshape(1, 28, 28, 3))\n",
    "\n",
    "\n",
    "    preds = model.predict(img)\n",
    "    # print(model.output_shape)\n",
    "    flower_output = model.output[:,3]\n",
    "    last_conv_layer = model.get_layer('conv2d')\n",
    "\n",
    "\n",
    "    grads = tf.keras.backend.gradients(flower_output, last_conv_layer.output)[0]\n",
    "    pooled_grads = tf.keras.backend.mean(grads,axis=(0, 1, 2))\n",
    "    iterate = tf.keras.backend.function([model.input], [pooled_grads, last_conv_layer.output[0]])\n",
    "    pooled_grads_value, conv_layer_output_value = iterate([img])\n",
    "    # #96 is the number of filters/channels in 'mixed10' layer\n",
    "    for i in range(6):\n",
    "        conv_layer_output_value[:, :, i] *= pooled_grads_value[i]\n",
    "\n",
    "    # print(conv_layer_output_value.shape)    \n",
    "    heatmap = np.mean(conv_layer_output_value, axis=-1)\n",
    "    # heatmap = heatmap.reshape(28,28,1)\n",
    "    # print(heatmap.shape)\n",
    "    heatmap = np.maximum(heatmap, 0)\n",
    "    # print(heatmap.shape)\n",
    "    heatmap /= np.max(heatmap)\n",
    "    cv2.imwrite('heatmap.jpg',heatmap)\n",
    "    # print(heatmap.shape)\n",
    "    return x_test[pos],heatmap\n",
    "\n",
    "# #Using cv2 to superimpose the heatmap on original image to clearly illustrate activated portion of image\n",
    "# img1 = cv2.imread(img_path)\n",
    "# heatmap = cv2.resize(heatmap, (img1.shape[1], img1.shape[0]))\n",
    "# heatmap = np.uint8(255 * heatmap)\n",
    "# heatmap = cv2.applyColorMap(heatmap, cv2.COLORMAP_JET)\n",
    "# superimposed_img = heatmap * 0.4 + img\n",
    "# cv2.imwrite('superimposed_img.jpg', superimposed_img)\n",
    "\n"
   ]
  },
  {
   "cell_type": "code",
   "execution_count": 38,
   "metadata": {},
   "outputs": [],
   "source": [
    "fig = plt.figure(figsize=(20,20))\n",
    "plt.title('input image  ------>   output heatmap')\n",
    "for i in range(0,12,2):\n",
    "    inp,img = heatmap(np.random.randint(0,100))\n",
    "    fig.add_subplot(6,2,i+1)\n",
    "    plt.imshow(np.squeeze(inp),cmap='gray')\n",
    "    fig.add_subplot(6,2,i+2)\n",
    "    plt.imshow(img)\n",
    "plt.show()\n",
    "    "
   ]
  },
  {
   "cell_type": "code",
   "execution_count": null,
   "metadata": {},
   "outputs": [],
   "source": []
  }
 ],
 "metadata": {
  "kernelspec": {
   "display_name": "Python (dlenv)",
   "language": "python",
   "name": "dlenv"
  },
  "language_info": {
   "codemirror_mode": {
    "name": "ipython",
    "version": 3
   },
   "file_extension": ".py",
   "mimetype": "text/x-python",
   "name": "python",
   "nbconvert_exporter": "python",
   "pygments_lexer": "ipython3",
   "version": "3.6.8"
  }
 },
 "nbformat": 4,
 "nbformat_minor": 2
}
