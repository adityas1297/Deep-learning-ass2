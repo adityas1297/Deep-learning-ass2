{
 "cells": [
  {
   "cell_type": "code",
   "execution_count": 5,
   "metadata": {},
   "outputs": [],
   "source": [
    "import tensorflow as tf"
   ]
  },
  {
   "cell_type": "code",
   "execution_count": 6,
   "metadata": {},
   "outputs": [],
   "source": [
    "import cv2\n",
    "import glob\n",
    "import numpy as np\n",
    "import os"
   ]
  },
  {
   "cell_type": "code",
   "execution_count": 7,
   "metadata": {},
   "outputs": [],
   "source": [
    "path = '/home/aditya/6thsem/deeplearning/ass1/images/'"
   ]
  },
  {
   "cell_type": "code",
   "execution_count": 8,
   "metadata": {},
   "outputs": [
    {
     "name": "stdout",
     "output_type": "stream",
     "text": [
      "/home/aditya/6thsem/deeplearning/ass1/images/\n"
     ]
    }
   ],
   "source": [
    "print(path)"
   ]
  },
  {
   "cell_type": "code",
   "execution_count": 37,
   "metadata": {},
   "outputs": [],
   "source": [
    "class_number =-1\n",
    "x_train =[]\n",
    "y_train = []\n",
    "x_test = []\n",
    "y_test = []\n",
    "for i in [0,1]: # length\n",
    "    for t in [0,1]: #Thickness\n",
    "        for k in range(0,12): #angle\n",
    "            for o in [0,1]:\n",
    "                rel_path = str(i)+'_'+str(t)+'_'+str(k)+'_'+str(o)\n",
    "                count = 0\n",
    "                class_number=class_number+1\n",
    "               \n",
    "                for f in glob.glob(path+rel_path+'/*.jpg'):\n",
    "                    if count>=600 and count<1000:\n",
    "                        count = count +1\n",
    "                        x_test.append(cv2.imread(f))\n",
    "                        y_test.append(class_number)\n",
    "                    elif count<600 :\n",
    "                        count= count+1\n",
    "                        x_train.append(cv2.imread(f))\n",
    "                        y_train.append(class_number)\n",
    "#                         break\n",
    "                    else:\n",
    "                        break"
   ]
  },
  {
   "cell_type": "code",
   "execution_count": 38,
   "metadata": {},
   "outputs": [
    {
     "name": "stdout",
     "output_type": "stream",
     "text": [
      "28\n",
      "96\n",
      "<class 'numpy.ndarray'>\n"
     ]
    }
   ],
   "source": [
    "\n",
    "x_test = np.asarray(x_test)\n",
    "x_train = np.asarray(x_train)\n",
    "y_train = np.asarray(y_train)\n",
    "y_test = np.asarray(y_test)\n",
    "\n",
    "y_train = tf.keras.utils.to_categorical(y_train,96)\n",
    "y_test = tf.keras.utils.to_categorical(y_test,96)\n",
    "#(x_train, y_train),(x_test, y_test) = mnist.load_data()\n",
    "#x_train, x_test = x_train / 255.0, x_test / 255.0\n",
    "print(len(x_train[0]))\n",
    "print(len(y_train[0]))\n",
    "print(type(x_train))"
   ]
  },
  {
   "cell_type": "code",
   "execution_count": 39,
   "metadata": {},
   "outputs": [],
   "source": [
    "# import matplotlib.pyplot as plt\n",
    "# fig = plt.figure()\n",
    "# for i in range(9):\n",
    "#   plt.subplot(3,3,i+1)\n",
    "#   plt.tight_layout()\n",
    "#   plt.imshow(x_train[i], cmap='gray', interpolation='none')\n",
    "#   plt.title(\"Digit: {}\".format(y_train[i]))\n",
    "#   plt.xticks([])\n",
    "#   plt.yticks([])\n",
    "# fig"
   ]
  },
  {
   "cell_type": "code",
   "execution_count": 40,
   "metadata": {},
   "outputs": [
    {
     "name": "stdout",
     "output_type": "stream",
     "text": [
      "57600\n"
     ]
    }
   ],
   "source": [
    "print(len(x_train))"
   ]
  },
  {
   "cell_type": "code",
   "execution_count": 41,
   "metadata": {},
   "outputs": [],
   "source": [
    "x_train = x_train.reshape(x_train.shape[0], 28, 28, 3)\n",
    "x_test = x_test.reshape(x_test.shape[0], 28, 28, 3)\n",
    "\n",
    "x_train = x_train.astype('float32')\n",
    "x_test = x_test.astype('float32')\n",
    "\n",
    "x_train/=255\n",
    "x_test/=255\n"
   ]
  },
  {
   "cell_type": "code",
   "execution_count": 42,
   "metadata": {},
   "outputs": [],
   "source": [
    "# model = tf.keras.models.Sequential([\n",
    "#   tf.keras.layers.Flatten(input_shape=(28, 28)),\n",
    "#   tf.keras.layers.Dense(512, activation=tf.nn.relu),\n",
    "#   tf.keras.layers.Dropout(0.2),\n",
    "#   tf.keras.layers.Dense(10, activation=tf.nn.softmax)\n",
    "# ])\n",
    "\n",
    "model = tf.keras.Sequential()\n",
    "# model.add(tf.keras.layers.Flatten(input_shape=(28,28)))\n",
    "model.add(tf.keras.layers.Conv2D(filters=32,kernel_size=(7,7),padding='same', activation ='relu',input_shape = (28,28,3)))\n",
    "model.add(tf.keras.layers.BatchNormalization(axis=-1, momentum=0.99, epsilon=0.001, center=True, scale=True, beta_initializer='zeros', gamma_initializer='ones', moving_mean_initializer='zeros', moving_variance_initializer='ones', beta_regularizer=None, gamma_regularizer=None, beta_constraint=None, gamma_constraint=None))\n",
    "model.add(tf.keras.layers.MaxPooling2D(pool_size=(2,2),strides=2))\n",
    "model.add(tf.keras.layers.Flatten())\n",
    "model.add(tf.keras.layers.Dense(1024,activation ='relu'))\n",
    "model.add(tf.keras.layers.Dense(96, activation =\"softmax\"))"
   ]
  },
  {
   "cell_type": "code",
   "execution_count": 43,
   "metadata": {},
   "outputs": [],
   "source": [
    "model.compile(optimizer='adam',\n",
    "              loss='categorical_crossentropy',\n",
    "              metrics=['accuracy'])\n"
   ]
  },
  {
   "cell_type": "code",
   "execution_count": 44,
   "metadata": {},
   "outputs": [
    {
     "name": "stdout",
     "output_type": "stream",
     "text": [
      "_________________________________________________________________\n",
      "Layer (type)                 Output Shape              Param #   \n",
      "=================================================================\n",
      "conv2d_3 (Conv2D)            (None, 28, 28, 32)        4736      \n",
      "_________________________________________________________________\n",
      "batch_normalization_3 (Batch (None, 28, 28, 32)        128       \n",
      "_________________________________________________________________\n",
      "max_pooling2d_3 (MaxPooling2 (None, 14, 14, 32)        0         \n",
      "_________________________________________________________________\n",
      "flatten_3 (Flatten)          (None, 6272)              0         \n",
      "_________________________________________________________________\n",
      "dense_6 (Dense)              (None, 1024)              6423552   \n",
      "_________________________________________________________________\n",
      "dense_7 (Dense)              (None, 96)                98400     \n",
      "=================================================================\n",
      "Total params: 6,526,816\n",
      "Trainable params: 6,526,752\n",
      "Non-trainable params: 64\n",
      "_________________________________________________________________\n"
     ]
    }
   ],
   "source": [
    "model.summary()"
   ]
  },
  {
   "cell_type": "code",
   "execution_count": 45,
   "metadata": {
    "scrolled": true
   },
   "outputs": [
    {
     "name": "stdout",
     "output_type": "stream",
     "text": [
      "Train on 54720 samples, validate on 2880 samples\n",
      "Epoch 1/5\n",
      "54720/54720 [==============================] - 215s 4ms/step - loss: 0.7843 - acc: 0.7550 - val_loss: 13.4644 - val_acc: 0.1552\n",
      "Epoch 2/5\n",
      "54720/54720 [==============================] - 212s 4ms/step - loss: 0.2009 - acc: 0.9305 - val_loss: 13.4579 - val_acc: 0.1604\n",
      "Epoch 3/5\n",
      "54720/54720 [==============================] - 212s 4ms/step - loss: 0.1399 - acc: 0.9560 - val_loss: 13.4607 - val_acc: 0.1580\n",
      "Epoch 4/5\n",
      "54720/54720 [==============================] - 216s 4ms/step - loss: 0.1098 - acc: 0.9680 - val_loss: 13.4343 - val_acc: 0.1660\n",
      "Epoch 5/5\n",
      "54720/54720 [==============================] - 213s 4ms/step - loss: 0.0690 - acc: 0.9796 - val_loss: 13.4346 - val_acc: 0.1660\n",
      "38400/38400 [==============================] - 18s 470us/step\n"
     ]
    },
    {
     "data": {
      "text/plain": [
       "[0.7729588906911566, 0.9268489583333334]"
      ]
     },
     "execution_count": 45,
     "metadata": {},
     "output_type": "execute_result"
    }
   ],
   "source": [
    "model.fit(x_train, y_train,validation_split=0.05 ,epochs=5)\n",
    "model.evaluate(x_test, y_test)\n"
   ]
  },
  {
   "cell_type": "code",
   "execution_count": null,
   "metadata": {},
   "outputs": [],
   "source": []
  },
  {
   "cell_type": "code",
   "execution_count": null,
   "metadata": {},
   "outputs": [],
   "source": []
  }
 ],
 "metadata": {
  "kernelspec": {
   "display_name": "Python (dlenv)",
   "language": "python",
   "name": "dlenv"
  },
  "language_info": {
   "codemirror_mode": {
    "name": "ipython",
    "version": 3
   },
   "file_extension": ".py",
   "mimetype": "text/x-python",
   "name": "python",
   "nbconvert_exporter": "python",
   "pygments_lexer": "ipython3",
   "version": "3.6.8"
  }
 },
 "nbformat": 4,
 "nbformat_minor": 2
}
