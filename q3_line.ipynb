{
 "cells": [
  {
   "cell_type": "code",
   "execution_count": 1,
   "metadata": {},
   "outputs": [],
   "source": [
    "import tensorflow as tf"
   ]
  },
  {
   "cell_type": "code",
   "execution_count": 2,
   "metadata": {},
   "outputs": [],
   "source": [
    "import cv2\n",
    "import glob\n",
    "import numpy as np\n",
    "import os"
   ]
  },
  {
   "cell_type": "code",
   "execution_count": 3,
   "metadata": {},
   "outputs": [],
   "source": [
    "path = '/home/aditya/6thsem/deeplearning/ass1/images/'"
   ]
  },
  {
   "cell_type": "code",
   "execution_count": 4,
   "metadata": {},
   "outputs": [
    {
     "name": "stdout",
     "output_type": "stream",
     "text": [
      "/home/aditya/6thsem/deeplearning/ass1/images/\n"
     ]
    }
   ],
   "source": [
    "print(path)"
   ]
  },
  {
   "cell_type": "code",
   "execution_count": 5,
   "metadata": {},
   "outputs": [],
   "source": [
    "class_number =-1\n",
    "x_train =[]\n",
    "y_train = []\n",
    "x_test = []\n",
    "y_test = []\n",
    "for i in [0,1]: # length\n",
    "    for t in [0,1]: #Thickness\n",
    "        for k in range(0,12): #angle\n",
    "            for o in [0,1]:\n",
    "                rel_path = str(i)+'_'+str(t)+'_'+str(k)+'_'+str(o)\n",
    "                count = 0\n",
    "                class_number=class_number+1\n",
    "               \n",
    "                for f in glob.glob(path+rel_path+'/*.jpg'):\n",
    "                    if count>=600 and count<1000:\n",
    "                        count = count +1\n",
    "                        x_test.append(cv2.imread(f))\n",
    "                        y_test.append(class_number)\n",
    "                    elif count<600 :\n",
    "                        count= count+1\n",
    "                        x_train.append(cv2.imread(f))\n",
    "                        y_train.append(class_number)\n",
    "#                         break\n",
    "                    else:\n",
    "                        break"
   ]
  },
  {
   "cell_type": "code",
   "execution_count": 6,
   "metadata": {},
   "outputs": [],
   "source": [
    "from random import shuffle\n",
    "\n",
    "rand_num = [i for i in range(len(x_train))]\n",
    "# for i in range(0,10):\n",
    "#     print(rand_num[i])\n",
    "\n",
    "shuffle(rand_num)\n",
    "\n",
    "# print(rand_num[len(rand_num)-1])\n",
    "# for i in range(0,10):\n",
    "#     print(rand_num[i])\n",
    "\n",
    "x_train1 = []\n",
    "y_train1 = []\n",
    "for i in range(len(x_train)):\n",
    "    x_train1.append(x_train[rand_num[i]])\n",
    "    y_train1.append(y_train[rand_num[i]])\n",
    "\n",
    "    \n",
    "    \n",
    "# x_train1 = np.asarray(x_train1)\n",
    "# y_train1 = np.asarray(y_train1)\n",
    "\n",
    "# print(len(x_train1))\n",
    "# print(len(x_train[0]))\n",
    "# print(len(y_train[0]))\n",
    "# print(type(x_train1))\n",
    "# print(type(y_train1))\n",
    "\n",
    "# print(y_train[0])\n",
    "#\n",
    "\n",
    "x_train =  x_train1\n",
    "y_train = y_train1"
   ]
  },
  {
   "cell_type": "code",
   "execution_count": 7,
   "metadata": {},
   "outputs": [
    {
     "name": "stdout",
     "output_type": "stream",
     "text": [
      "28\n",
      "96\n",
      "<class 'numpy.ndarray'>\n"
     ]
    }
   ],
   "source": [
    "\n",
    "x_test = np.asarray(x_test)\n",
    "x_train = np.asarray(x_train)\n",
    "y_train = np.asarray(y_train)\n",
    "y_test = np.asarray(y_test)\n",
    "\n",
    "y_train = tf.keras.utils.to_categorical(y_train,96)\n",
    "y_test = tf.keras.utils.to_categorical(y_test,96)\n",
    "#(x_train, y_train),(x_test, y_test) = mnist.load_data()\n",
    "#x_train, x_test = x_train / 255.0, x_test / 255.0\n",
    "print(len(x_train[0]))\n",
    "print(len(y_train[0]))\n",
    "print(type(x_train))"
   ]
  },
  {
   "cell_type": "code",
   "execution_count": 8,
   "metadata": {},
   "outputs": [],
   "source": [
    "# import matplotlib.pyplot as plt\n",
    "# fig = plt.figure()\n",
    "# for i in range(9):\n",
    "#   plt.subplot(3,3,i+1)\n",
    "#   plt.tight_layout()\n",
    "#   plt.imshow(x_train[i], cmap='gray', interpolation='none')\n",
    "#   plt.title(\"Digit: {}\".format(y_train[i]))\n",
    "#   plt.xticks([])\n",
    "#   plt.yticks([])\n",
    "# fig"
   ]
  },
  {
   "cell_type": "code",
   "execution_count": 9,
   "metadata": {},
   "outputs": [],
   "source": [
    "# print(len(x_train))"
   ]
  },
  {
   "cell_type": "code",
   "execution_count": 10,
   "metadata": {},
   "outputs": [],
   "source": [
    "x_train = x_train.reshape(x_train.shape[0], 28, 28, 3)\n",
    "x_test = x_test.reshape(x_test.shape[0], 28, 28, 3)\n",
    "\n",
    "x_train = x_train.astype('float32')\n",
    "x_test = x_test.astype('float32')\n",
    "\n",
    "x_train/=255\n",
    "x_test/=255\n"
   ]
  },
  {
   "cell_type": "code",
   "execution_count": 11,
   "metadata": {},
   "outputs": [],
   "source": [
    "# model = tf.keras.models.Sequential([\n",
    "#   tf.keras.layers.Flatten(input_shape=(28, 28)),\n",
    "#   tf.keras.layers.Dense(512, activation=tf.nn.relu),\n",
    "#   tf.keras.layers.Dropout(0.2),\n",
    "#   tf.keras.layers.Dense(10, activation=tf.nn.softmax)\n",
    "# ])\n",
    "\n",
    "model = tf.keras.Sequential()\n",
    "# model.add(tf.keras.layers.Flatten(input_shape=(28,28)))\n",
    "model.add(tf.keras.layers.Conv2D(filters=6,kernel_size=(6,6),padding='same', activation ='relu',input_shape = (28,28,3)))\n",
    "model.add(tf.keras.layers.Conv2D(filters=12,kernel_size=(5,5),strides=(2, 2),padding='same', activation ='relu'))\n",
    "model.add(tf.keras.layers.Conv2D(filters=24,kernel_size=(4,4),strides=(2, 2),padding='same', activation ='relu'))\n",
    "\n",
    "# model.add(tf.keras.layers.BatchNormalization(axis=-1, momentum=0.99, epsilon=0.001, center=True, scale=True, beta_initializer='zeros', gamma_initializer='ones', moving_mean_initializer='zeros', moving_variance_initializer='ones', beta_regularizer=None, gamma_regularizer=None, beta_constraint=None, gamma_constraint=None))\n",
    "# model.add(tf.keras.layers.MaxPooling2D(pool_size=(2,2),strides=2))\n",
    "model.add(tf.keras.layers.Flatten())\n",
    "model.add(tf.keras.layers.Dense(200,activation ='relu'))\n",
    "# model.add(tf.keras.layers.Dropout(0.25))\n",
    "model.add(tf.keras.layers.Dense(96, activation =\"softmax\"))"
   ]
  },
  {
   "cell_type": "code",
   "execution_count": 12,
   "metadata": {},
   "outputs": [],
   "source": [
    "model.compile(optimizer='adam',\n",
    "              loss='categorical_crossentropy',\n",
    "              metrics=['accuracy'])\n"
   ]
  },
  {
   "cell_type": "code",
   "execution_count": 13,
   "metadata": {
    "scrolled": true
   },
   "outputs": [
    {
     "name": "stdout",
     "output_type": "stream",
     "text": [
      "_________________________________________________________________\n",
      "Layer (type)                 Output Shape              Param #   \n",
      "=================================================================\n",
      "conv2d (Conv2D)              (None, 28, 28, 6)         654       \n",
      "_________________________________________________________________\n",
      "conv2d_1 (Conv2D)            (None, 14, 14, 12)        1812      \n",
      "_________________________________________________________________\n",
      "conv2d_2 (Conv2D)            (None, 7, 7, 24)          4632      \n",
      "_________________________________________________________________\n",
      "flatten (Flatten)            (None, 1176)              0         \n",
      "_________________________________________________________________\n",
      "dense (Dense)                (None, 200)               235400    \n",
      "_________________________________________________________________\n",
      "dense_1 (Dense)              (None, 96)                19296     \n",
      "=================================================================\n",
      "Total params: 261,794\n",
      "Trainable params: 261,794\n",
      "Non-trainable params: 0\n",
      "_________________________________________________________________\n"
     ]
    }
   ],
   "source": [
    "model.summary()"
   ]
  },
  {
   "cell_type": "code",
   "execution_count": 14,
   "metadata": {},
   "outputs": [],
   "source": [
    "# from tensorflow.keras.utils.vis_utils import plot_model\n",
    "tf.keras.utils.plot_model(model, to_file='model_plot.png', show_shapes=True, show_layer_names=True)"
   ]
  },
  {
   "cell_type": "code",
   "execution_count": 15,
   "metadata": {
    "scrolled": true
   },
   "outputs": [
    {
     "name": "stdout",
     "output_type": "stream",
     "text": [
      "Train on 54720 samples, validate on 2880 samples\n",
      "Epoch 1/5\n",
      "54720/54720 [==============================] - 40s 727us/step - loss: 1.2625 - acc: 0.6039 - val_loss: 0.4643 - val_acc: 0.8167\n",
      "Epoch 2/5\n",
      "54720/54720 [==============================] - 38s 693us/step - loss: 0.2264 - acc: 0.9158 - val_loss: 0.1424 - val_acc: 0.9427\n",
      "Epoch 3/5\n",
      "54720/54720 [==============================] - 38s 686us/step - loss: 0.1544 - acc: 0.9572 - val_loss: 0.3517 - val_acc: 0.9257\n",
      "Epoch 4/5\n",
      "54720/54720 [==============================] - 38s 687us/step - loss: 0.1201 - acc: 0.9695 - val_loss: 0.0660 - val_acc: 0.9760\n",
      "Epoch 5/5\n",
      "54720/54720 [==============================] - 35s 641us/step - loss: 0.0601 - acc: 0.9812 - val_loss: 0.0590 - val_acc: 0.9806\n",
      "{'val_loss': [0.4643249606092771, 0.14243205009649199, 0.3516525867084662, 0.06598435279706286, 0.05900574002880603], 'val_acc': [0.8166666666666667, 0.9427083333333334, 0.9256944444444445, 0.9760416666666667, 0.9805555555555555], 'loss': [1.2624805597011108, 0.22644009947101448, 0.15443883113595738, 0.1201010259124995, 0.06009840925921256], 'acc': [0.6039108187134503, 0.9157711988304094, 0.9572368421052632, 0.9694809941520468, 0.9812317251461988]}\n",
      "38400/38400 [==============================] - 8s 201us/step\n"
     ]
    },
    {
     "data": {
      "text/plain": [
       "[0.04829113326266166, 0.9838020833333333]"
      ]
     },
     "execution_count": 15,
     "metadata": {},
     "output_type": "execute_result"
    }
   ],
   "source": [
    "history = model.fit(x_train, y_train,validation_split=0.05 ,epochs=5)\n",
    "print(history.history)\n",
    "model.evaluate(x_test, y_test)\n"
   ]
  },
  {
   "cell_type": "code",
   "execution_count": 109,
   "metadata": {},
   "outputs": [
    {
     "name": "stdout",
     "output_type": "stream",
     "text": [
      "(28, 28, 3)\n",
      "1\n"
     ]
    },
    {
     "data": {
      "image/png": "[encoded data removed]",
      "text/plain": [
       "<Figure size 216x144 with 1 Axes>"
      ]
     },
     "metadata": {
      "needs_background": "light"
     },
     "output_type": "display_data"
    },
    {
     "data": {
      "image/png": "[encoded data removed]",
      "text/plain": [
       "<Figure size 216x288 with 1 Axes>"
      ]
     },
     "metadata": {
      "needs_background": "light"
     },
     "output_type": "display_data"
    },
    {
     "data": {
      "image/png": "[encoded data removed]",
      "text/plain": [
       "<Figure size 216x576 with 1 Axes>"
      ]
     },
     "metadata": {
      "needs_background": "light"
     },
     "output_type": "display_data"
    }
   ],
   "source": [
    "########Getting outputs for intermediate convolution layers by running prediction on test image ##########\n",
    "\n",
    "# print(model.layers)\n",
    "# layer_outputs = [layer.output for layer in model.layers]\n",
    "# print(layer_outputs)\n",
    "\n",
    "import matplotlib.pyplot as plt\n",
    "from tensorflow.keras.preprocessing import image\n",
    "layer_outputs = [layer.output for layer in model.layers]\n",
    "# print(layer_outputs)\n",
    "# print(x_test[2])\n",
    "image_path  = '/home/aditya/6thsem/deeplearning/ass1/images/0_1_7_1/0_1_7_1_34.jpg'\n",
    "image_name = '0_1_7_1_34'\n",
    "# import PIL\n",
    "# import PIL.Image\n",
    "\n",
    "# test_image = x_test[2]\n",
    "\n",
    "# img = image.load_img(image_path, target_size=(28,28))\n",
    "# img_tensor = Image.img_to_array(img)\n",
    "# img_tensor = np.expand_dims(img_tensor, axis=0)\n",
    "# img_tensor /= 255.\n",
    "img = cv2.imread(image_path)\n",
    "print(img.shape)\n",
    "\n",
    "activation_model = tf.keras.models.Model(inputs=model.input, outputs=layer_outputs)\n",
    "activations = activation_model.predict(img.reshape(1, 28, 28, 3))\n",
    "print(len(activations[5]))\n",
    "layer_names = ['conv2d', 'conv2d_1', 'conv2d_2']\n",
    "activ_list = [activations[0], activations[1], activations[2]]\n",
    "\n",
    "images_per_row = 3\n",
    "\n",
    "for layer_name, layer_activation in zip(layer_names, activ_list):\n",
    "    n_features = layer_activation.shape[-1]\n",
    "    size = layer_activation.shape[1]\n",
    "    n_cols = n_features // images_per_row\n",
    "    display_grid = np.zeros((size * n_cols, images_per_row * size))\n",
    "    \n",
    "    for col in range(n_cols):\n",
    "        for row in range(images_per_row):\n",
    "            channel_image = layer_activation[0, :, :, col * images_per_row + row]\n",
    "            channel_image -= channel_image.mean()\n",
    "            channel_image /= channel_image.std()\n",
    "            channel_image *= 64\n",
    "            channel_image += 128\n",
    "            channel_image = np.clip(channel_image, 0, 255).astype('uint8')\n",
    "            display_grid[col * size : (col + 1) * size, row * size : (row + 1) * size] = channel_image\n",
    "\n",
    "    scale = 1. / size\n",
    "    plt.figure(figsize=(scale * display_grid.shape[1], scale * display_grid.shape[0]))\n",
    "    plt.title(layer_name)\n",
    "    plt.grid(False)\n",
    "    plt.imshow(display_grid, aspect='auto', cmap='plasma')\n",
    "    plt.savefig(\"viz/\"+image_name+' - '+layer_name+\"_grid.png\", bbox_inches='tight',pad_inches=0.1,edgecolor='r')"
   ]
  },
  {
   "cell_type": "code",
   "execution_count": 48,
   "metadata": {},
   "outputs": [
    {
     "name": "stdout",
     "output_type": "stream",
     "text": [
      "[<tf.Tensor 'conv2d/Relu:0' shape=(?, 28, 28, 6) dtype=float32>, <tf.Tensor 'conv2d_1/Relu:0' shape=(?, 14, 14, 12) dtype=float32>, <tf.Tensor 'conv2d_2/Relu:0' shape=(?, 7, 7, 24) dtype=float32>, <tf.Tensor 'flatten/Reshape:0' shape=(?, 1176) dtype=float32>, <tf.Tensor 'dense/Relu:0' shape=(?, 200) dtype=float32>, <tf.Tensor 'dense_1/Softmax:0' shape=(?, 96) dtype=float32>]\n",
      "6\n",
      "(28, 28, 3)\n"
     ]
    }
   ],
   "source": [
    "from tensorflow.keras import backend as K\n",
    "\n",
    "inp = model.input                                           # input placeholder\n",
    "outputs = [layer.output for layer in model.layers]          # all layer outputs\n",
    "print(outputs)\n",
    "functor = K.function([inp, K.learning_phase()], outputs )   # evaluation function\n",
    "\n",
    "# Testing\n",
    "test = np.random.random((28,28,3))[np.newaxis,...]\n",
    "layer_outs = functor([test, 1.])\n",
    "print(len(layer_outs))\n",
    "\n",
    "\n",
    "print(x_train[0].shape)"
   ]
  },
  {
   "cell_type": "code",
   "execution_count": 25,
   "metadata": {},
   "outputs": [],
   "source": [
    "y_pred = model.predict(x_test)"
   ]
  },
  {
   "cell_type": "code",
   "execution_count": 26,
   "metadata": {},
   "outputs": [
    {
     "name": "stdout",
     "output_type": "stream",
     "text": [
      "[ 0  0  0 ... 95 95 95]\n",
      "[ 0  0  0 ... 95 95 95]\n"
     ]
    }
   ],
   "source": [
    "y_pred1 = []\n",
    "  \n",
    "y_pred1 =np.argmax(y_pred,axis=1) \n",
    "print(y_pred1)\n",
    "# for i in y_pred1:\n",
    "#     print(i)   \n",
    "    \n",
    "y_test = np.argmax(y_test,axis =1)\n",
    "print(y_pred1)"
   ]
  },
  {
   "cell_type": "code",
   "execution_count": 27,
   "metadata": {},
   "outputs": [
    {
     "name": "stdout",
     "output_type": "stream",
     "text": [
      "<class 'numpy.ndarray'>\n"
     ]
    }
   ],
   "source": [
    "from sklearn.metrics import confusion_matrix\n",
    "cf = confusion_matrix(y_test, y_pred1)\n",
    "print(type(cf))\n"
   ]
  },
  {
   "cell_type": "code",
   "execution_count": 28,
   "metadata": {},
   "outputs": [
    {
     "name": "stdout",
     "output_type": "stream",
     "text": [
      "[0.9913259  0.88208617 0.99009901 0.78145695 0.98989899 0.75223881\n",
      " 1.         1.         1.         0.99625468 1.         0.9706258\n",
      " 1.         0.94160584 1.         0.94409938 1.         0.96410256\n",
      " 0.99749373 1.         1.         0.91428571 0.99117276 0.79881657\n",
      " 1.         0.96551724 0.99750623 0.96645963 0.99749373 0.97055058\n",
      " 0.99875156 0.98503741 0.99874844 0.98873592 0.988622   0.96930946\n",
      " 0.98511166 0.95798319 0.9937578  0.97193878 0.99750623 0.98881988\n",
      " 0.995      0.96954933 0.99750623 0.96410256 1.         0.97236181\n",
      " 1.         1.         1.         1.         1.         1.\n",
      " 1.         1.         1.         1.         1.         1.\n",
      " 1.         1.         1.         1.         1.         1.\n",
      " 1.         1.         1.         1.         1.         1.\n",
      " 1.         1.         1.         1.         1.         1.\n",
      " 1.         1.         1.         1.         1.         1.\n",
      " 1.         1.         1.         1.         1.         1.\n",
      " 1.         1.         1.         1.         1.         1.        ]\n"
     ]
    }
   ],
   "source": [
    "import sys\n",
    "from sklearn.metrics import f1_score\n",
    "fscore = f1_score(y_test,y_pred1,average=None)\n",
    "print(fscore)\n",
    "np.set_printoptions(threshold=sys.maxsize)\n",
    "# print(cf)\n",
    "np.savetxt(\"line_cf2.csv\", cf, delimiter=\",\")\n",
    "np.savetxt(\"line_fscore2.csv\", fscore, delimiter=\",\")"
   ]
  },
  {
   "cell_type": "code",
   "execution_count": 24,
   "metadata": {},
   "outputs": [
    {
     "name": "stdout",
     "output_type": "stream",
     "text": [
      "\n",
      "\n",
      "dict_keys(['val_loss', 'val_acc', 'loss', 'acc'])\n"
     ]
    },
    {
     "data": {
      "image/png": "[encoded data removed]",
      "text/plain": [
       "<Figure size 432x288 with 1 Axes>"
      ]
     },
     "metadata": {
      "needs_background": "light"
     },
     "output_type": "display_data"
    },
    {
     "data": {
      "image/png": "[encoded data removed]",
      "text/plain": [
       "<Figure size 432x288 with 1 Axes>"
      ]
     },
     "metadata": {
      "needs_background": "light"
     },
     "output_type": "display_data"
    }
   ],
   "source": [
    "# history = model.fit(x=x_train,y=y_train, epochs=20, validation_split=0.33)\n",
    "import matplotlib.pyplot as plt\n",
    "\n",
    "# plot learning curves\n",
    "\n",
    "print(\"\\n\")\n",
    "print(history.history.keys())\n",
    "\n",
    "# summarize history for accuracy\n",
    "plt.plot(history.history['acc'])\n",
    "plt.plot(history.history['val_acc'])\n",
    "plt.title('model accuracy')\n",
    "plt.ylabel('accuracy')\n",
    "plt.xlabel('epoch')\n",
    "plt.legend(['train', 'test'], loc='upper left')\n",
    "plt.show()\n",
    "\n",
    "# summarize history for loss\n",
    "plt.plot(history.history['loss'])\n",
    "plt.plot(history.history['val_loss'])\n",
    "plt.title('model loss')\n",
    "plt.ylabel('loss')\n",
    "plt.xlabel('epoch')\n",
    "plt.legend(['train', 'test'], loc='upper left')\n",
    "plt.show()"
   ]
  },
  {
   "cell_type": "code",
   "execution_count": null,
   "metadata": {},
   "outputs": [],
   "source": []
  },
  {
   "cell_type": "code",
   "execution_count": null,
   "metadata": {},
   "outputs": [],
   "source": []
  }
 ],
 "metadata": {
  "kernelspec": {
   "display_name": "Python (dlenv)",
   "language": "python",
   "name": "dlenv"
  },
  "language_info": {
   "codemirror_mode": {
    "name": "ipython",
    "version": 3
   },
   "file_extension": ".py",
   "mimetype": "text/x-python",
   "name": "python",
   "nbconvert_exporter": "python",
   "pygments_lexer": "ipython3",
   "version": "3.6.8"
  }
 },
 "nbformat": 4,
 "nbformat_minor": 2
}
