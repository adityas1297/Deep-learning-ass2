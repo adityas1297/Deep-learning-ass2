{
 "cells": [
  {
   "cell_type": "code",
   "execution_count": 2,
   "metadata": {},
   "outputs": [],
   "source": [
    "import tensorflow as tf"
   ]
  },
  {
   "cell_type": "code",
   "execution_count": 60,
   "metadata": {},
   "outputs": [],
   "source": [
    "import cv2\n",
    "import glob\n",
    "import numpy as np\n",
    "import random\n",
    "import os"
   ]
  },
  {
   "cell_type": "code",
   "execution_count": 4,
   "metadata": {},
   "outputs": [],
   "source": [
    "path = '/home/aditya/6thsem/deeplearning/ass1/images/'"
   ]
  },
  {
   "cell_type": "code",
   "execution_count": 5,
   "metadata": {},
   "outputs": [
    {
     "name": "stdout",
     "output_type": "stream",
     "text": [
      "/home/aditya/6thsem/deeplearning/ass1/images/\n"
     ]
    }
   ],
   "source": [
    "print(path)"
   ]
  },
  {
   "cell_type": "code",
   "execution_count": 6,
   "metadata": {},
   "outputs": [],
   "source": [
    "class_number =-1\n",
    "x_train =[]\n",
    "y_train = []\n",
    "x_test = []\n",
    "y_test = []\n",
    "for i in [0,1]: # length\n",
    "    for t in [0,1]: #Thickness\n",
    "        for k in range(0,12): #angle\n",
    "            for o in [0,1]:\n",
    "                rel_path = str(i)+'_'+str(t)+'_'+str(k)+'_'+str(o)\n",
    "                count = 0\n",
    "                class_number=class_number+1\n",
    "               \n",
    "                for f in glob.glob(path+rel_path+'/*.jpg'):\n",
    "                    if count>=600 and count<1000:\n",
    "                        count = count +1\n",
    "                        x_test.append(cv2.imread(f))\n",
    "                        y_test.append(class_number)\n",
    "                    elif count<600 :\n",
    "                        count= count+1\n",
    "                        x_train.append(cv2.imread(f))\n",
    "                        y_train.append(class_number)\n",
    "#                         break\n",
    "                    else:\n",
    "                        break"
   ]
  },
  {
   "cell_type": "code",
   "execution_count": 7,
   "metadata": {},
   "outputs": [],
   "source": [
    "from random import shuffle\n",
    "\n",
    "rand_num = [i for i in range(len(x_train))]\n",
    "# for i in range(0,10):\n",
    "#     print(rand_num[i])\n",
    "\n",
    "shuffle(rand_num)\n",
    "\n",
    "# print(rand_num[len(rand_num)-1])\n",
    "# for i in range(0,10):\n",
    "#     print(rand_num[i])\n",
    "\n",
    "x_train1 = []\n",
    "y_train1 = []\n",
    "for i in range(len(x_train)):\n",
    "    x_train1.append(x_train[rand_num[i]])\n",
    "    y_train1.append(y_train[rand_num[i]])\n",
    "\n",
    "    \n",
    "    \n",
    "# x_train1 = np.asarray(x_train1)\n",
    "# y_train1 = np.asarray(y_train1)\n",
    "\n",
    "# print(len(x_train1))\n",
    "# print(len(x_train[0]))\n",
    "# print(len(y_train[0]))\n",
    "# print(type(x_train1))\n",
    "# print(type(y_train1))\n",
    "\n",
    "# print(y_train[0])\n",
    "#\n",
    "\n",
    "x_train =  x_train1\n",
    "y_train = y_train1"
   ]
  },
  {
   "cell_type": "code",
   "execution_count": 8,
   "metadata": {},
   "outputs": [
    {
     "name": "stdout",
     "output_type": "stream",
     "text": [
      "28\n",
      "96\n",
      "<class 'numpy.ndarray'>\n"
     ]
    }
   ],
   "source": [
    "\n",
    "x_test = np.asarray(x_test)\n",
    "x_train = np.asarray(x_train)\n",
    "y_train = np.asarray(y_train)\n",
    "y_test = np.asarray(y_test)\n",
    "\n",
    "y_train = tf.keras.utils.to_categorical(y_train,96)\n",
    "y_test = tf.keras.utils.to_categorical(y_test,96)\n",
    "#(x_train, y_train),(x_test, y_test) = mnist.load_data()\n",
    "#x_train, x_test = x_train / 255.0, x_test / 255.0\n",
    "print(len(x_train[0]))\n",
    "print(len(y_train[0]))\n",
    "print(type(x_train))"
   ]
  },
  {
   "cell_type": "code",
   "execution_count": 9,
   "metadata": {},
   "outputs": [],
   "source": [
    "# import matplotlib.pyplot as plt\n",
    "# fig = plt.figure()\n",
    "# for i in range(9):\n",
    "#   plt.subplot(3,3,i+1)\n",
    "#   plt.tight_layout()\n",
    "#   plt.imshow(x_train[i], cmap='gray', interpolation='none')\n",
    "#   plt.title(\"Digit: {}\".format(y_train[i]))\n",
    "#   plt.xticks([])\n",
    "#   plt.yticks([])\n",
    "# fig"
   ]
  },
  {
   "cell_type": "code",
   "execution_count": 10,
   "metadata": {},
   "outputs": [],
   "source": [
    "# print(len(x_train))"
   ]
  },
  {
   "cell_type": "code",
   "execution_count": 11,
   "metadata": {},
   "outputs": [],
   "source": [
    "x_train = x_train.reshape(x_train.shape[0], 28, 28, 3)\n",
    "x_test = x_test.reshape(x_test.shape[0], 28, 28, 3)\n",
    "\n",
    "x_train = x_train.astype('float32')\n",
    "x_test = x_test.astype('float32')\n",
    "\n",
    "x_train/=255\n",
    "x_test/=255\n"
   ]
  },
  {
   "cell_type": "code",
   "execution_count": 12,
   "metadata": {},
   "outputs": [],
   "source": [
    "# model = tf.keras.models.Sequential([\n",
    "#   tf.keras.layers.Flatten(input_shape=(28, 28)),\n",
    "#   tf.keras.layers.Dense(512, activation=tf.nn.relu),\n",
    "#   tf.keras.layers.Dropout(0.2),\n",
    "#   tf.keras.layers.Dense(10, activation=tf.nn.softmax)\n",
    "# ])\n",
    "\n",
    "model = tf.keras.Sequential()\n",
    "# model.add(tf.keras.layers.Flatten(input_shape=(28,28)))\n",
    "model.add(tf.keras.layers.Conv2D(filters=6,kernel_size=(6,6),padding='same', activation ='relu',input_shape = (28,28,3)))\n",
    "model.add(tf.keras.layers.Conv2D(filters=12,kernel_size=(5,5),strides=(2, 2),padding='same', activation ='relu'))\n",
    "model.add(tf.keras.layers.Conv2D(filters=24,kernel_size=(4,4),strides=(2, 2),padding='same', activation ='relu'))\n",
    "\n",
    "# model.add(tf.keras.layers.BatchNormalization(axis=-1, momentum=0.99, epsilon=0.001, center=True, scale=True, beta_initializer='zeros', gamma_initializer='ones', moving_mean_initializer='zeros', moving_variance_initializer='ones', beta_regularizer=None, gamma_regularizer=None, beta_constraint=None, gamma_constraint=None))\n",
    "# model.add(tf.keras.layers.MaxPooling2D(pool_size=(2,2),strides=2))\n",
    "model.add(tf.keras.layers.Flatten())\n",
    "model.add(tf.keras.layers.Dense(200,activation ='relu'))\n",
    "# model.add(tf.keras.layers.Dropout(0.25))\n",
    "model.add(tf.keras.layers.Dense(96, activation =\"softmax\"))"
   ]
  },
  {
   "cell_type": "code",
   "execution_count": 13,
   "metadata": {},
   "outputs": [],
   "source": [
    "model.compile(optimizer='adam',\n",
    "              loss='categorical_crossentropy',\n",
    "              metrics=['accuracy'])\n"
   ]
  },
  {
   "cell_type": "code",
   "execution_count": 14,
   "metadata": {
    "scrolled": true
   },
   "outputs": [
    {
     "name": "stdout",
     "output_type": "stream",
     "text": [
      "_________________________________________________________________\n",
      "Layer (type)                 Output Shape              Param #   \n",
      "=================================================================\n",
      "conv2d (Conv2D)              (None, 28, 28, 6)         654       \n",
      "_________________________________________________________________\n",
      "conv2d_1 (Conv2D)            (None, 14, 14, 12)        1812      \n",
      "_________________________________________________________________\n",
      "conv2d_2 (Conv2D)            (None, 7, 7, 24)          4632      \n",
      "_________________________________________________________________\n",
      "flatten (Flatten)            (None, 1176)              0         \n",
      "_________________________________________________________________\n",
      "dense (Dense)                (None, 200)               235400    \n",
      "_________________________________________________________________\n",
      "dense_1 (Dense)              (None, 96)                19296     \n",
      "=================================================================\n",
      "Total params: 261,794\n",
      "Trainable params: 261,794\n",
      "Non-trainable params: 0\n",
      "_________________________________________________________________\n"
     ]
    }
   ],
   "source": [
    "model.summary()"
   ]
  },
  {
   "cell_type": "code",
   "execution_count": 15,
   "metadata": {},
   "outputs": [],
   "source": [
    "# from tensorflow.keras.utils.vis_utils import plot_model\n",
    "tf.keras.utils.plot_model(model, to_file='model_plot.png', show_shapes=True, show_layer_names=True)"
   ]
  },
  {
   "cell_type": "code",
   "execution_count": 16,
   "metadata": {
    "scrolled": true
   },
   "outputs": [
    {
     "name": "stdout",
     "output_type": "stream",
     "text": [
      "Train on 54720 samples, validate on 2880 samples\n",
      "Epoch 1/1\n",
      "54720/54720 [==============================] - 39s 715us/step - loss: 1.2717 - acc: 0.6037 - val_loss: 0.4025 - val_acc: 0.8396\n",
      "{'val_loss': [0.40249172945817313], 'val_acc': [0.8395833333333333], 'loss': [1.271729094103763], 'acc': [0.6037097953216374]}\n",
      "38400/38400 [==============================] - 8s 214us/step\n"
     ]
    },
    {
     "data": {
      "text/plain": [
       "[0.38578925232207745, 0.8461458333333334]"
      ]
     },
     "execution_count": 16,
     "metadata": {},
     "output_type": "execute_result"
    }
   ],
   "source": [
    "history = model.fit(x_train, y_train,validation_split=0.05 ,epochs=1)\n",
    "print(history.history)\n",
    "model.evaluate(x_test, y_test)\n"
   ]
  },
  {
   "cell_type": "code",
   "execution_count": 17,
   "metadata": {},
   "outputs": [
    {
     "name": "stdout",
     "output_type": "stream",
     "text": [
      "(28, 28, 3)\n",
      "1\n"
     ]
    }
   ],
   "source": [
    "########Getting outputs for intermediate convolution layers by running prediction on test image ##########\n",
    "\n",
    "# print(model.layers)\n",
    "# layer_outputs = [layer.output for layer in model.layers]\n",
    "# print(layer_outputs)\n",
    "\n",
    "import matplotlib.pyplot as plt\n",
    "from tensorflow.keras.preprocessing import image\n",
    "layer_outputs = [layer.output for layer in model.layers]\n",
    "# print(layer_outputs)\n",
    "# print(x_test[2])\n",
    "image_path  = '/home/aditya/6thsem/deeplearning/ass1/images/0_1_7_1/0_1_7_1_34.jpg'\n",
    "image_name = '0_1_7_1_34'\n",
    "# import PIL\n",
    "# import PIL.Image\n",
    "\n",
    "# test_image = x_test[2]\n",
    "\n",
    "# img = image.load_img(image_path, target_size=(28,28))\n",
    "# img_tensor = Image.img_to_array(img)\n",
    "# img_tensor = np.expand_dims(img_tensor, axis=0)\n",
    "# img_tensor /= 255.\n",
    "img = cv2.imread(image_path)\n",
    "print(img.shape)\n",
    "\n",
    "activation_model = tf.keras.models.Model(inputs=model.input, outputs=layer_outputs)\n",
    "activations = activation_model.predict(img.reshape(1, 28, 28, 3))\n",
    "print(len(activations[5]))\n",
    "layer_names = ['conv2d', 'conv2d_1', 'conv2d_2']\n",
    "activ_list = [activations[0], activations[1], activations[2]]\n",
    "\n",
    "images_per_row = 3\n",
    "\n",
    "for layer_name, layer_activation in zip(layer_names, activ_list):\n",
    "    n_features = layer_activation.shape[-1]\n",
    "    size = layer_activation.shape[1]\n",
    "    n_cols = n_features // images_per_row\n",
    "    display_grid = np.zeros((size * n_cols, images_per_row * size))\n",
    "    \n",
    "    for col in range(n_cols):\n",
    "        for row in range(images_per_row):\n",
    "            channel_image = layer_activation[0, :, :, col * images_per_row + row]\n",
    "            channel_image -= channel_image.mean()\n",
    "            channel_image /= channel_image.std()\n",
    "            channel_image *= 64\n",
    "            channel_image += 128\n",
    "            channel_image = np.clip(channel_image, 0, 255).astype('uint8')\n",
    "            display_grid[col * size : (col + 1) * size, row * size : (row + 1) * size] = channel_image\n",
    "\n",
    "    scale = 1. / size\n",
    "    plt.figure(figsize=(scale * display_grid.shape[1], scale * display_grid.shape[0]))\n",
    "    plt.title(layer_name)\n",
    "    plt.grid(False)\n",
    "    plt.imshow(display_grid, aspect='auto', cmap='plasma')\n",
    "    plt.savefig(\"viz/\"+image_name+' - '+layer_name+\"_grid.png\", bbox_inches='tight',pad_inches=0.1,edgecolor='r')"
   ]
  },
  {
   "cell_type": "code",
   "execution_count": 18,
   "metadata": {},
   "outputs": [
    {
     "name": "stdout",
     "output_type": "stream",
     "text": [
      "Using matplotlib backend: Qt5Agg\n",
      "Tensor(\"strided_slice:0\", shape=(28, 28, 6), dtype=float32)\n",
      "layer name  conv2d\n"
     ]
    }
   ],
   "source": [
    "def deprocess_image(x):\n",
    "    \n",
    "    x -= x.mean()\n",
    "    x /= (x.std() + 1e-5)\n",
    "    x *= 0.1\n",
    "    x += 0.5\n",
    "    x = np.clip(x, 0, 1)\n",
    "    x *= 255\n",
    "    x = np.clip(x, 0, 255).astype('uint8')\n",
    "    return x\n",
    "\n",
    "#---------------------------------------------------------------------------------------------------\n",
    "#Utility function for generating patterns for given layer starting from empty input image and then \n",
    "#applying Stochastic Gradient Ascent for maximizing the response of particular filter in given layer\n",
    "#---------------------------------------------------------------------------------------------------\n",
    "# import keras.backend as K\n",
    "%matplotlib\n",
    "def generate_pattern(layer_name, filter_index, size=28):\n",
    "    \n",
    "    layer_output = model.get_layer(layer_name).output\n",
    "    loss = tf.keras.backend.mean(layer_output[:, :, :, filter_index])\n",
    "    grads = tf.keras.backend.gradients(loss, model.input)[0]\n",
    "    grads /= (tf.keras.backend.sqrt(tf.keras.backend.mean(tf.keras.backend.square(grads))) + 1e-5)\n",
    "    iterate = tf.keras.backend.function([model.input], [loss, grads])\n",
    "    input_img_data = np.random.random((1, size, size, 3)) * 20 + 128.\n",
    "#     + 128.\n",
    "    step = 1.\n",
    "    for i in range(80):\n",
    "        loss_value, grads_value = iterate([input_img_data])\n",
    "        input_img_data += grads_value * step\n",
    "        \n",
    "    img = input_img_data[0]\n",
    "    return deprocess_image(img)\n",
    "\n",
    "layer_name = 'conv2d'\n",
    "\n",
    "layer_output = model.get_layer(layer_name).output\n",
    "print(layer_output[0])\n",
    "print(\"layer name \", layer_name)\n",
    "# print(layer_output[:, :, :, 0])\n",
    "# cv2.imshow('',generate_pattern(layer_name, 0,28))\n",
    "\n",
    "\n",
    "# fig=plt.figure(figsize=(6, 1))\n",
    "\n",
    "# for i in range(0,6):\n",
    "#     img = generate_pattern(layer_name, i,28)\n",
    "# #     fig.add_subplot(i/3, i%3, i)\n",
    "#     plt.imshow(img)\n",
    "# plt.show()\n",
    "\n",
    "\n",
    "\n",
    "# print(generate_pattern(layer_name, 0,28).shape)\n",
    "# img1 = generate_pattern(layer_name, 1,28)\n",
    "# img0 =generate_pattern(layer_name, 0,28)\n",
    "# print(len(img0),len(img1))\n",
    "# # imgplot = plt.imshow(img1)\n",
    "# # imgplot1 = plt.imshow(img0)\n",
    "# # plt.show()\n",
    "# fig=plt.figure(figsize=(8, 8))\n",
    "# columns = 4\n",
    "# rows = 6\n",
    "# for i in range(0, columns*rows +1):\n",
    "#     img = generate_pattern(layer_name, i,7)\n",
    "#     fig.add_subplot(rows, columns, i+1)\n",
    "#     plt.imshow(img)\n",
    "# plt.show()\n",
    "# plt.savefig(\"results.png\")\n",
    "\n",
    "def gen_conv_op(conv_layer_name,rows,columns,kernel_size):\n",
    "    fig=plt.figure(figsize=(20,20))\n",
    "#     columns = 4\n",
    "#     rows = 6\n",
    "    for i in range(0, columns*rows):\n",
    "        img = generate_pattern(conv_layer_name, i,kernel_size)\n",
    "        fig.add_subplot(rows, columns, i+1)\n",
    "        plt.imshow(img)\n",
    "    plt.show()\n",
    "    \n",
    "    \n",
    "# gen_conv_op('conv2d',2,3,28)\n",
    "gen_conv_op('conv2d',2,3,28)\n",
    "\n",
    "#------------------------------------------------------------------------------------------\n",
    "#Generating convolution layer filters for intermediate layers using above utility functions\n",
    "#------------------------------------------------------------------------------------------\n",
    "\n",
    "\n"
   ]
  },
  {
   "cell_type": "code",
   "execution_count": 71,
   "metadata": {},
   "outputs": [],
   "source": [
    "def heatmap(pos):\n",
    "    # image_path  = '/home/aditya/6thsem/deeplearning/ass1/images/0_1_7_1/0_1_7_1_34.jpg'\n",
    "    # image_name = '0_1_7_1_34'\n",
    "\n",
    "    img = x_test[pos]\n",
    "    # print(img.shape)\n",
    "\n",
    "    img = img.reshape(1, 28, 28, 3)\n",
    "\n",
    "    # activation_model = tf.keras.models.Model(inputs=model.input, outputs=layer_outputs)\n",
    "    # activations = activation_model.predict(img.reshape(1, 28, 28, 3))\n",
    "\n",
    "\n",
    "    preds = model.predict(img)\n",
    "    # print(model.output_shape)\n",
    "    flower_output = model.output[:,3]\n",
    "    last_conv_layer = model.get_layer('conv2d')\n",
    "\n",
    "\n",
    "    grads = tf.keras.backend.gradients(flower_output, last_conv_layer.output)[0]\n",
    "    pooled_grads = tf.keras.backend.mean(grads,axis=(0, 1, 2))\n",
    "    iterate = tf.keras.backend.function([model.input], [pooled_grads, last_conv_layer.output[0]])\n",
    "    pooled_grads_value, conv_layer_output_value = iterate([img])\n",
    "    # #96 is the number of filters/channels in 'mixed10' layer\n",
    "    for i in range(6):\n",
    "        conv_layer_output_value[:, :, i] *= pooled_grads_value[i]\n",
    "\n",
    "    # print(conv_layer_output_value.shape)    \n",
    "    heatmap = np.mean(conv_layer_output_value, axis=-1)\n",
    "    # heatmap = heatmap.reshape(28,28,1)\n",
    "    # print(heatmap.shape)\n",
    "    heatmap = np.maximum(heatmap, 0)\n",
    "    # print(heatmap.shape)\n",
    "    heatmap /= np.max(heatmap)\n",
    "    cv2.imwrite('heatmap.jpg',heatmap)\n",
    "    # print(heatmap.shape)\n",
    "    return x_test[pos],heatmap\n",
    "\n",
    "# #Using cv2 to superimpose the heatmap on original image to clearly illustrate activated portion of image\n",
    "# img1 = cv2.imread(img_path)\n",
    "# heatmap = cv2.resize(heatmap, (img1.shape[1], img1.shape[0]))\n",
    "# heatmap = np.uint8(255 * heatmap)\n",
    "# heatmap = cv2.applyColorMap(heatmap, cv2.COLORMAP_JET)\n",
    "# superimposed_img = heatmap * 0.4 + img\n",
    "# cv2.imwrite('superimposed_img.jpg', superimposed_img)\n",
    "\n"
   ]
  },
  {
   "cell_type": "code",
   "execution_count": 76,
   "metadata": {},
   "outputs": [],
   "source": [
    "fig = plt.figure(figsize=(20,20))\n",
    "plt.title('input image  ------>   output heatmap')\n",
    "for i in range(0,12,2):\n",
    "    inp,img = heatmap(random.randint(0,100))\n",
    "    fig.add_subplot(6,2,i+1)\n",
    "    plt.imshow(inp)\n",
    "    fig.add_subplot(6,2,i+2)\n",
    "    plt.imshow(img)\n",
    "plt.show()\n",
    "    "
   ]
  },
  {
   "cell_type": "code",
   "execution_count": 193,
   "metadata": {},
   "outputs": [],
   "source": [
    "# from tensorflow.keras import backend as K\n",
    "\n",
    "# inp = model.input                                           # input placeholder\n",
    "# outputs = [layer.output for layer in model.layers]          # all layer outputs\n",
    "# print(outputs)\n",
    "# functor = K.function([inp, K.learning_phase()], outputs )   # evaluation function\n",
    "\n",
    "# # Testing\n",
    "# test = np.random.random((28,28,3))[np.newaxis,...]\n",
    "# layer_outs = functor([test, 1.])\n",
    "# print(len(layer_outs))\n",
    "\n",
    "\n",
    "# print(x_train[0].shape)"
   ]
  },
  {
   "cell_type": "code",
   "execution_count": 148,
   "metadata": {},
   "outputs": [],
   "source": [
    "y_pred = model.predict(x_test)"
   ]
  },
  {
   "cell_type": "code",
   "execution_count": 112,
   "metadata": {},
   "outputs": [
    {
     "name": "stdout",
     "output_type": "stream",
     "text": [
      "[ 0  0  0 ... 95 95 95]\n",
      "[ 0  0  0 ... 95 95 95]\n"
     ]
    }
   ],
   "source": [
    "y_pred1 = []\n",
    "  \n",
    "y_pred1 =np.argmax(y_pred,axis=1) \n",
    "print(y_pred1)\n",
    "# for i in y_pred1:\n",
    "#     print(i)   \n",
    "    \n",
    "y_test = np.argmax(y_test,axis =1)\n",
    "print(y_pred1)"
   ]
  },
  {
   "cell_type": "code",
   "execution_count": 113,
   "metadata": {},
   "outputs": [
    {
     "name": "stdout",
     "output_type": "stream",
     "text": [
      "<class 'numpy.ndarray'>\n"
     ]
    }
   ],
   "source": [
    "from sklearn.metrics import confusion_matrix\n",
    "cf = confusion_matrix(y_test, y_pred1)\n",
    "print(type(cf))\n"
   ]
  },
  {
   "cell_type": "code",
   "execution_count": 114,
   "metadata": {},
   "outputs": [
    {
     "name": "stdout",
     "output_type": "stream",
     "text": [
      "[0.98623279 0.93430657 0.988622   0.92772668 0.99502488 0.96009674\n",
      " 1.         1.         1.         1.         0.99874844 0.95572917\n",
      " 0.99875156 0.92575406 1.         0.94626474 1.         0.98636927\n",
      " 1.         1.         0.9913259  0.96373057 0.98372966 0.92665037\n",
      " 0.85917496 0.98263027 0.99874844 0.9975     1.         0.99875156\n",
      " 0.96238651 0.99497487 0.95110024 0.91543624 0.96863237 0.92\n",
      " 0.98280098 0.97493734 1.         0.97908979 0.99626401 0.98019802\n",
      " 0.87061404 0.97984887 0.82969432 0.9729064  0.88839286 0.96267696\n",
      " 1.         1.         1.         1.         1.         1.\n",
      " 1.         1.         1.         1.         1.         1.\n",
      " 1.         1.         1.         1.         1.         1.\n",
      " 1.         1.         1.         1.         1.         1.\n",
      " 1.         1.         1.         1.         1.         1.\n",
      " 1.         1.         1.         1.         1.         1.\n",
      " 1.         1.         1.         1.         1.         1.\n",
      " 1.         1.         1.         1.         1.         1.        ]\n"
     ]
    }
   ],
   "source": [
    "import sys\n",
    "from sklearn.metrics import f1_score\n",
    "fscore = f1_score(y_test,y_pred1,average=None)\n",
    "print(fscore)\n",
    "np.set_printoptions(threshold=sys.maxsize)\n",
    "# print(cf)\n",
    "np.savetxt(\"line_cf2.csv\", cf, delimiter=\",\")\n",
    "np.savetxt(\"line_fscore2.csv\", fscore, delimiter=\",\")"
   ]
  },
  {
   "cell_type": "code",
   "execution_count": 115,
   "metadata": {},
   "outputs": [
    {
     "name": "stdout",
     "output_type": "stream",
     "text": [
      "\n",
      "\n",
      "dict_keys(['val_loss', 'val_acc', 'loss', 'acc'])\n"
     ]
    },
    {
     "data": {
      "image/png": "[encoded data removed]",
      "text/plain": [
       "<Figure size 432x288 with 1 Axes>"
      ]
     },
     "metadata": {
      "needs_background": "light"
     },
     "output_type": "display_data"
    },
    {
     "data": {
      "image/png": "[encoded data removed]",
      "text/plain": [
       "<Figure size 432x288 with 1 Axes>"
      ]
     },
     "metadata": {
      "needs_background": "light"
     },
     "output_type": "display_data"
    }
   ],
   "source": [
    "# history = model.fit(x=x_train,y=y_train, epochs=20, validation_split=0.33)\n",
    "import matplotlib.pyplot as plt\n",
    "\n",
    "# plot learning curves\n",
    "\n",
    "print(\"\\n\")\n",
    "print(history.history.keys())\n",
    "\n",
    "# summarize history for accuracy\n",
    "plt.plot(history.history['acc'])\n",
    "plt.plot(history.history['val_acc'])\n",
    "plt.title('model accuracy')\n",
    "plt.ylabel('accuracy')\n",
    "plt.xlabel('epoch')\n",
    "plt.legend(['train', 'test'], loc='upper left')\n",
    "plt.show()\n",
    "\n",
    "# summarize history for loss\n",
    "plt.plot(history.history['loss'])\n",
    "plt.plot(history.history['val_loss'])\n",
    "plt.title('model loss')\n",
    "plt.ylabel('loss')\n",
    "plt.xlabel('epoch')\n",
    "plt.legend(['train', 'test'], loc='upper left')\n",
    "plt.show()"
   ]
  },
  {
   "cell_type": "code",
   "execution_count": null,
   "metadata": {},
   "outputs": [],
   "source": []
  },
  {
   "cell_type": "code",
   "execution_count": null,
   "metadata": {},
   "outputs": [],
   "source": []
  }
 ],
 "metadata": {
  "kernelspec": {
   "display_name": "Python (dlenv)",
   "language": "python",
   "name": "dlenv"
  },
  "language_info": {
   "codemirror_mode": {
    "name": "ipython",
    "version": 3
   },
   "file_extension": ".py",
   "mimetype": "text/x-python",
   "name": "python",
   "nbconvert_exporter": "python",
   "pygments_lexer": "ipython3",
   "version": "3.6.8"
  }
 },
 "nbformat": 4,
 "nbformat_minor": 2
}
